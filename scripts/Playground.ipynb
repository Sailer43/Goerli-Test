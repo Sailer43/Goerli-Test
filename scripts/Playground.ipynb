{
 "cells": [
  {
   "cell_type": "code",
   "execution_count": 1,
   "id": "ec18820c",
   "metadata": {
    "scrolled": true
   },
   "outputs": [
    {
     "name": "stdout",
     "output_type": "stream",
     "text": [
      "\u001b[32mINFO \u001b[0m[09-12|22:28:12.185] Starting Geth on Görli testnet... \n",
      "\u001b[32mINFO \u001b[0m[09-12|22:28:12.187] Maximum peer count                       \u001b[32mETH\u001b[0m=50 \u001b[32mLES\u001b[0m=0 \u001b[32mtotal\u001b[0m=50\n",
      "\u001b[32mINFO \u001b[0m[09-12|22:28:12.191] Set global gas cap                       \u001b[32mcap\u001b[0m=50,000,000\n",
      "\u001b[32mINFO \u001b[0m[09-12|22:28:12.193] Allocated trie memory caches             \u001b[32mclean\u001b[0m=154.00MiB \u001b[32mdirty\u001b[0m=256.00MiB\n",
      "\u001b[32mINFO \u001b[0m[09-12|22:28:12.193] Allocated cache and file handles         \u001b[32mdatabase\u001b[0m=/Users/sitaochen/Desktop/FINTECH565/Goerli-Test/scripts/data/Goerli/geth/chaindata \u001b[32mcache\u001b[0m=512.00MiB \u001b[32mhandles\u001b[0m=5120\n",
      "\u001b[32mINFO \u001b[0m[09-12|22:28:12.335] Opened ancient database                  \u001b[32mdatabase\u001b[0m=/Users/sitaochen/Desktop/FINTECH565/Goerli-Test/scripts/data/Goerli/geth/chaindata/ancient/chain \u001b[32mreadonly\u001b[0m=false\n",
      "\u001b[32mINFO \u001b[0m[09-12|22:28:12.344]  \n",
      "\u001b[32mINFO \u001b[0m[09-12|22:28:12.345] --------------------------------------------------------------------------------------------------------------------------------------------------------- \n",
      "\u001b[32mINFO \u001b[0m[09-12|22:28:12.345] Chain ID:  5 (goerli) \n",
      "\u001b[32mINFO \u001b[0m[09-12|22:28:12.345] Consensus: Beacon (proof-of-stake), merged from Clique (proof-of-authority) \n",
      "\u001b[32mINFO \u001b[0m[09-12|22:28:12.345]  \n",
      "\u001b[32mINFO \u001b[0m[09-12|22:28:12.345] Pre-Merge hard forks: \n",
      "\u001b[32mINFO \u001b[0m[09-12|22:28:12.345]  - Homestead:                   0        (https://github.com/ethereum/execution-specs/blob/master/network-upgrades/mainnet-upgrades/homestead.md) \n",
      "\u001b[32mINFO \u001b[0m[09-12|22:28:12.345]  - Tangerine Whistle (EIP 150): 0        (https://github.com/ethereum/execution-specs/blob/master/network-upgrades/mainnet-upgrades/tangerine-whistle.md) \n",
      "\u001b[32mINFO \u001b[0m[09-12|22:28:12.345]  - Spurious Dragon/1 (EIP 155): 0        (https://github.com/ethereum/execution-specs/blob/master/network-upgrades/mainnet-upgrades/spurious-dragon.md) \n",
      "\u001b[32mINFO \u001b[0m[09-12|22:28:12.345]  - Spurious Dragon/2 (EIP 158): 0        (https://github.com/ethereum/execution-specs/blob/master/network-upgrades/mainnet-upgrades/spurious-dragon.md) \n",
      "\u001b[32mINFO \u001b[0m[09-12|22:28:12.345]  - Byzantium:                   0        (https://github.com/ethereum/execution-specs/blob/master/network-upgrades/mainnet-upgrades/byzantium.md) \n",
      "\u001b[32mINFO \u001b[0m[09-12|22:28:12.345]  - Constantinople:              0        (https://github.com/ethereum/execution-specs/blob/master/network-upgrades/mainnet-upgrades/constantinople.md) \n",
      "\u001b[32mINFO \u001b[0m[09-12|22:28:12.345]  - Petersburg:                  0        (https://github.com/ethereum/execution-specs/blob/master/network-upgrades/mainnet-upgrades/petersburg.md) \n",
      "\u001b[32mINFO \u001b[0m[09-12|22:28:12.345]  - Istanbul:                    1561651  (https://github.com/ethereum/execution-specs/blob/master/network-upgrades/mainnet-upgrades/istanbul.md) \n",
      "\u001b[32mINFO \u001b[0m[09-12|22:28:12.345]  - Berlin:                      4460644  (https://github.com/ethereum/execution-specs/blob/master/network-upgrades/mainnet-upgrades/berlin.md) \n",
      "\u001b[32mINFO \u001b[0m[09-12|22:28:12.345]  - London:                      5062605  (https://github.com/ethereum/execution-specs/blob/master/network-upgrades/mainnet-upgrades/london.md) \n",
      "\u001b[32mINFO \u001b[0m[09-12|22:28:12.345]  \n",
      "\u001b[32mINFO \u001b[0m[09-12|22:28:12.345] Merge configured: \n",
      "\u001b[32mINFO \u001b[0m[09-12|22:28:12.345]  - Hard-fork specification:    https://github.com/ethereum/execution-specs/blob/master/network-upgrades/mainnet-upgrades/paris.md \n",
      "\u001b[32mINFO \u001b[0m[09-12|22:28:12.345]  - Network known to be merged: true \n",
      "\u001b[32mINFO \u001b[0m[09-12|22:28:12.345]  - Total terminal difficulty:  10790000 \n",
      "\u001b[32mINFO \u001b[0m[09-12|22:28:12.345]  - Merge netsplit block:       <nil> \n",
      "\u001b[32mINFO \u001b[0m[09-12|22:28:12.345] --------------------------------------------------------------------------------------------------------------------------------------------------------- \n",
      "\u001b[32mINFO \u001b[0m[09-12|22:28:12.345]  \n",
      "\u001b[32mINFO \u001b[0m[09-12|22:28:12.346] Initialising Ethereum protocol           \u001b[32mnetwork\u001b[0m=5 \u001b[32mdbversion\u001b[0m=8\n",
      "\u001b[32mINFO \u001b[0m[09-12|22:28:12.349] Loaded most recent local header          \u001b[32mnumber\u001b[0m=0 \u001b[32mhash\u001b[0m=bf7e33..b88c1a \u001b[32mtd\u001b[0m=1 \u001b[32mage\u001b[0m=3y8mo1d\n",
      "\u001b[32mINFO \u001b[0m[09-12|22:28:12.349] Loaded most recent local full block      \u001b[32mnumber\u001b[0m=0 \u001b[32mhash\u001b[0m=bf7e33..b88c1a \u001b[32mtd\u001b[0m=1 \u001b[32mage\u001b[0m=3y8mo1d\n",
      "\u001b[32mINFO \u001b[0m[09-12|22:28:12.349] Loaded most recent local fast block      \u001b[32mnumber\u001b[0m=0 \u001b[32mhash\u001b[0m=bf7e33..b88c1a \u001b[32mtd\u001b[0m=1 \u001b[32mage\u001b[0m=3y8mo1d\n",
      "\u001b[33mWARN \u001b[0m[09-12|22:28:12.350] Loaded snapshot journal                  \u001b[33mdiffs\u001b[0m=missing\n",
      "\u001b[32mINFO \u001b[0m[09-12|22:28:12.351] Loaded local transaction journal         \u001b[32mtransactions\u001b[0m=0 \u001b[32mdropped\u001b[0m=0\n",
      "\u001b[32mINFO \u001b[0m[09-12|22:28:12.351] Regenerated local transaction journal    \u001b[32mtransactions\u001b[0m=0 \u001b[32maccounts\u001b[0m=0\n",
      "\u001b[32mINFO \u001b[0m[09-12|22:28:12.351] Chain post-merge, sync via beacon client \n",
      "\u001b[32mINFO \u001b[0m[09-12|22:28:12.352] Gasprice oracle is ignoring threshold set \u001b[32mthreshold\u001b[0m=2\n",
      "\u001b[33mWARN \u001b[0m[09-12|22:28:12.352] Unclean shutdown detected                \u001b[33mbooted\u001b[0m=2022-09-12T22:07:45-0400 \u001b[33mage\u001b[0m=20m27s\n",
      "\u001b[33mWARN \u001b[0m[09-12|22:28:12.352] Engine API enabled                       \u001b[33mprotocol\u001b[0m=eth\n",
      "\u001b[32mINFO \u001b[0m[09-12|22:28:12.352] Starting peer-to-peer node               \u001b[32minstance\u001b[0m=Geth/v1.10.23-stable/darwin-amd64/go1.19\n",
      "\u001b[32mINFO \u001b[0m[09-12|22:28:12.514] New local node record                    \u001b[32mseq\u001b[0m=1,663,032,765,530 \u001b[32mid\u001b[0m=fd58f6fc3d98c936 \u001b[32mip\u001b[0m=127.0.0.1 \u001b[32mudp\u001b[0m=30303 \u001b[32mtcp\u001b[0m=30303\n",
      "\u001b[32mINFO \u001b[0m[09-12|22:28:12.515] Started P2P networking                   \u001b[32mself\u001b[0m=enode://e6fcbc96462a7509dd3f081c83e90080ee485b7b2958f84b7849631bd81e878fa2597d7c0eed21ccea4eac2fc3f7336db91888b8189041897fb824bb2c20c511@127.0.0.1:30303\n",
      "\u001b[32mINFO \u001b[0m[09-12|22:28:12.518] IPC endpoint opened                      \u001b[32murl\u001b[0m=/Users/sitaochen/Desktop/FINTECH565/Goerli-Test/scripts/data/Goerli/geth.ipc\n",
      "\u001b[32mINFO \u001b[0m[09-12|22:28:12.519] Loaded JWT secret file                   \u001b[32mpath\u001b[0m=data/jwt.hex \u001b[32mcrc32\u001b[0m=0xafc25639\n",
      "\u001b[32mINFO \u001b[0m[09-12|22:28:12.519] HTTP server started                      \u001b[32mendpoint\u001b[0m=127.0.0.1:8545 \u001b[32mauth\u001b[0m=false \u001b[32mprefix\u001b[0m= \u001b[32mcors\u001b[0m= \u001b[32mvhosts\u001b[0m=localhost\n",
      "\u001b[32mINFO \u001b[0m[09-12|22:28:12.522] WebSocket enabled                        \u001b[32murl\u001b[0m=ws://127.0.0.1:8551\n",
      "\u001b[32mINFO \u001b[0m[09-12|22:28:12.522] HTTP server started                      \u001b[32mendpoint\u001b[0m=127.0.0.1:8551 \u001b[32mauth\u001b[0m=true  \u001b[32mprefix\u001b[0m= \u001b[32mcors\u001b[0m=localhost \u001b[32mvhosts\u001b[0m=localhost\n",
      "\u001b[32mINFO \u001b[0m[09-12|22:28:15.046] New local node record                    \u001b[32mseq\u001b[0m=1,663,032,765,531 \u001b[32mid\u001b[0m=fd58f6fc3d98c936 \u001b[32mip\u001b[0m=45.37.106.126 \u001b[32mudp\u001b[0m=30303 \u001b[32mtcp\u001b[0m=30303\n",
      "\u001b[32mINFO \u001b[0m[09-12|22:28:15.325] Mapped network port                      \u001b[32mproto\u001b[0m=tcp \u001b[32mextport\u001b[0m=30303 \u001b[32mintport\u001b[0m=30303 \u001b[32minterface\u001b[0m=\"UPNP IGDv1-IP1\"\n",
      "\u001b[32mINFO \u001b[0m[09-12|22:28:15.813] Mapped network port                      \u001b[32mproto\u001b[0m=udp \u001b[32mextport\u001b[0m=30303 \u001b[32mintport\u001b[0m=30303 \u001b[32minterface\u001b[0m=\"UPNP IGDv1-IP1\"\n",
      "\u001b[33mWARN \u001b[0m[09-12|22:28:16.311] Snapshot extension registration failed   \u001b[33mpeer\u001b[0m=11a2b5e0 \u001b[33merr\u001b[0m=\"peer connected on snap without compatible eth support\"\n",
      "\u001b[32mINFO \u001b[0m[09-12|22:28:22.582] Looking for peers                        \u001b[32mpeercount\u001b[0m=0 \u001b[32mtried\u001b[0m=31 \u001b[32mstatic\u001b[0m=0\n",
      "\u001b[32mINFO \u001b[0m[09-12|22:28:32.589] Looking for peers                        \u001b[32mpeercount\u001b[0m=0 \u001b[32mtried\u001b[0m=34 \u001b[32mstatic\u001b[0m=0\n",
      "\u001b[32mINFO \u001b[0m[09-12|22:28:42.928] Looking for peers                        \u001b[32mpeercount\u001b[0m=0 \u001b[32mtried\u001b[0m=31 \u001b[32mstatic\u001b[0m=0\n",
      "\u001b[33mWARN \u001b[0m[09-12|22:28:43.361] Snapshot extension registration failed   \u001b[33mpeer\u001b[0m=006a9de6 \u001b[33merr\u001b[0m=\"peer connected on snap without compatible eth support\"\n",
      "\u001b[33mWARN \u001b[0m[09-12|22:28:47.186] Dropping unsynced node during sync       \u001b[33mid\u001b[0m=26356144cfa08ac4 \u001b[33mconn\u001b[0m=dyndial \u001b[33maddr\u001b[0m=207.244.238.202:30303 \u001b[33mtype\u001b[0m=Geth/v1.10.2-stable-...\n",
      "\u001b[33mWARN \u001b[0m[09-12|22:28:47.357] Post-merge network, but no beacon client seen. Please launch one to follow the chain! \n"
     ]
    },
    {
     "name": "stdout",
     "output_type": "stream",
     "text": [
      "\u001b[32mINFO \u001b[0m[09-12|22:28:53.253] Looking for peers                        \u001b[32mpeercount\u001b[0m=0 \u001b[32mtried\u001b[0m=39 \u001b[32mstatic\u001b[0m=0\n",
      "\u001b[32mINFO \u001b[0m[09-12|22:29:03.508] Looking for peers                        \u001b[32mpeercount\u001b[0m=0 \u001b[32mtried\u001b[0m=37 \u001b[32mstatic\u001b[0m=0\n",
      "\u001b[32mINFO \u001b[0m[09-12|22:29:13.759] Looking for peers                        \u001b[32mpeercount\u001b[0m=0 \u001b[32mtried\u001b[0m=40 \u001b[32mstatic\u001b[0m=0\n",
      "\u001b[33mWARN \u001b[0m[09-12|22:29:23.708] Snapshot extension registration failed   \u001b[33mpeer\u001b[0m=1eee5d5a \u001b[33merr\u001b[0m=\"peer connected on snap without compatible eth support\"\n",
      "\u001b[32mINFO \u001b[0m[09-12|22:29:23.833] Looking for peers                        \u001b[32mpeercount\u001b[0m=0 \u001b[32mtried\u001b[0m=37 \u001b[32mstatic\u001b[0m=0\n",
      "\u001b[32mINFO \u001b[0m[09-12|22:29:33.902] Looking for peers                        \u001b[32mpeercount\u001b[0m=0 \u001b[32mtried\u001b[0m=33 \u001b[32mstatic\u001b[0m=0\n",
      "\u001b[32mINFO \u001b[0m[09-12|22:29:43.909] Looking for peers                        \u001b[32mpeercount\u001b[0m=1 \u001b[32mtried\u001b[0m=37 \u001b[32mstatic\u001b[0m=0\n",
      "\u001b[32mINFO \u001b[0m[09-12|22:29:53.991] Looking for peers                        \u001b[32mpeercount\u001b[0m=1 \u001b[32mtried\u001b[0m=33 \u001b[32mstatic\u001b[0m=0\n",
      "\u001b[32mINFO \u001b[0m[09-12|22:30:04.175] Looking for peers                        \u001b[32mpeercount\u001b[0m=2 \u001b[32mtried\u001b[0m=31 \u001b[32mstatic\u001b[0m=0\n",
      "\u001b[32mINFO \u001b[0m[09-12|22:30:14.444] Looking for peers                        \u001b[32mpeercount\u001b[0m=1 \u001b[32mtried\u001b[0m=36 \u001b[32mstatic\u001b[0m=0\n",
      "\u001b[33mWARN \u001b[0m[09-12|22:30:19.842] Dropping unsynced node during sync       \u001b[33mid\u001b[0m=c9f24461102ee298 \u001b[33mconn\u001b[0m=dyndial \u001b[33maddr\u001b[0m=65.109.24.172:48326   \u001b[33mtype\u001b[0m=Geth/v1.10.23-stable...\n",
      "\u001b[32mINFO \u001b[0m[09-12|22:30:24.463] Looking for peers                        \u001b[32mpeercount\u001b[0m=2 \u001b[32mtried\u001b[0m=41 \u001b[32mstatic\u001b[0m=0\n",
      "\u001b[32mINFO \u001b[0m[09-12|22:30:34.513] Looking for peers                        \u001b[32mpeercount\u001b[0m=2 \u001b[32mtried\u001b[0m=40 \u001b[32mstatic\u001b[0m=0\n",
      "\u001b[33mWARN \u001b[0m[09-12|22:30:43.852] Snapshot extension registration failed   \u001b[33mpeer\u001b[0m=685a4d4f \u001b[33merr\u001b[0m=\"peer connected on snap without compatible eth support\"\n",
      "\u001b[33mWARN \u001b[0m[09-12|22:30:57.893] Served engine_exchangeTransitionConfigurationV1 \u001b[33mconn\u001b[0m=127.0.0.1:51287 \u001b[33mreqid\u001b[0m=3 \u001b[33mduration\u001b[0m=\"27.24µs\" \u001b[33merr\u001b[0m=\"the method engine_exchangeTransitionConfigurationV1 does not exist/is not available\"\n",
      "\u001b[33mWARN \u001b[0m[09-12|22:31:07.898] Served engine_exchangeTransitionConfigurationV1 \u001b[33mconn\u001b[0m=127.0.0.1:51226 \u001b[33mreqid\u001b[0m=6 \u001b[33mduration\u001b[0m=\"18.315µs\" \u001b[33merr\u001b[0m=\"the method engine_exchangeTransitionConfigurationV1 does not exist/is not available\"\n",
      "\u001b[33mWARN \u001b[0m[09-12|22:31:17.898] Served engine_exchangeTransitionConfigurationV1 \u001b[33mconn\u001b[0m=127.0.0.1:51226 \u001b[33mreqid\u001b[0m=5 \u001b[33mduration\u001b[0m=\"15.654µs\" \u001b[33merr\u001b[0m=\"the method engine_exchangeTransitionConfigurationV1 does not exist/is not available\"\n",
      "\u001b[33mWARN \u001b[0m[09-12|22:31:27.903] Served engine_exchangeTransitionConfigurationV1 \u001b[33mconn\u001b[0m=127.0.0.1:51226 \u001b[33mreqid\u001b[0m=7 \u001b[33mduration\u001b[0m=\"13.742µs\" \u001b[33merr\u001b[0m=\"the method engine_exchangeTransitionConfigurationV1 does not exist/is not available\"\n",
      "\u001b[33mWARN \u001b[0m[09-12|22:31:37.901] Served engine_exchangeTransitionConfigurationV1 \u001b[33mconn\u001b[0m=127.0.0.1:51226 \u001b[33mreqid\u001b[0m=5 \u001b[33mduration\u001b[0m=\"36.602µs\" \u001b[33merr\u001b[0m=\"the method engine_exchangeTransitionConfigurationV1 does not exist/is not available\"\n",
      "\u001b[33mWARN \u001b[0m[09-12|22:32:31.503] Snapshot extension registration failed   \u001b[33mpeer\u001b[0m=db3b65b7 \u001b[33merr\u001b[0m=\"peer connected on snap without compatible eth support\"\n",
      "\u001b[33mWARN \u001b[0m[09-12|22:32:37.382] Dropping unsynced node during sync       \u001b[33mid\u001b[0m=26356144cfa08ac4 \u001b[33mconn\u001b[0m=dyndial         \u001b[33maddr\u001b[0m=207.244.238.202:30303 \u001b[33mtype\u001b[0m=Geth/v1.10.2-stable-...\n",
      "\u001b[33mWARN \u001b[0m[09-12|22:33:47.466] Beacon client online, but never received consensus updates. Please ensure your beacon client is operational to follow the chain! \n",
      "\u001b[33mWARN \u001b[0m[09-12|22:34:14.914] Snapshot extension registration failed   \u001b[33mpeer\u001b[0m=049f4e43 \u001b[33merr\u001b[0m=\"peer connected on snap without compatible eth support\"\n",
      "\u001b[33mWARN \u001b[0m[09-12|22:35:13.463] Snapshot extension registration failed   \u001b[33mpeer\u001b[0m=590ae512 \u001b[33merr\u001b[0m=\"peer connected on snap without compatible eth support\"\n",
      "\u001b[33mWARN \u001b[0m[09-12|22:35:16.354] Snapshot extension registration failed   \u001b[33mpeer\u001b[0m=443df8b7 \u001b[33merr\u001b[0m=\"peer connected on snap without compatible eth support\"\n",
      "^C\n",
      "\u001b[32mINFO \u001b[0m[09-12|22:35:20.939] Got interrupt, shutting down... \n",
      "\u001b[33mWARN \u001b[0m[09-12|22:35:20.939] HTTP server graceful shutdown timed out \n",
      "\u001b[32mINFO \u001b[0m[09-12|22:35:20.939] HTTP server stopped                      \u001b[32mendpoint\u001b[0m=127.0.0.1:8545\n",
      "\u001b[33mWARN \u001b[0m[09-12|22:35:20.939] HTTP server graceful shutdown timed out \n",
      "\u001b[32mINFO \u001b[0m[09-12|22:35:20.939] HTTP server stopped                      \u001b[32mendpoint\u001b[0m=127.0.0.1:8551\n",
      "\u001b[32mINFO \u001b[0m[09-12|22:35:20.940] IPC endpoint closed                      \u001b[32murl\u001b[0m=/Users/sitaochen/Desktop/FINTECH565/Goerli-Test/scripts/data/Goerli/geth.ipc\n",
      "\u001b[32mINFO \u001b[0m[09-12|22:35:20.940] Ethereum protocol stopped \n",
      "\u001b[32mINFO \u001b[0m[09-12|22:35:20.941] Transaction pool stopped \n",
      "\u001b[32mINFO \u001b[0m[09-12|22:35:20.941] Writing snapshot state to disk           \u001b[32mroot\u001b[0m=5d6cde..8b3008\n",
      "\u001b[32mINFO \u001b[0m[09-12|22:35:20.941] Persisted trie from memory database      \u001b[32mnodes\u001b[0m=0 \u001b[32msize\u001b[0m=0.00B \u001b[32mtime\u001b[0m=\"7.049µs\" \u001b[32mgcnodes\u001b[0m=0 \u001b[32mgcsize\u001b[0m=0.00B \u001b[32mgctime\u001b[0m=0s \u001b[32mlivenodes\u001b[0m=1 \u001b[32mlivesize\u001b[0m=0.00B\n",
      "\u001b[32mINFO \u001b[0m[09-12|22:35:20.941] Writing clean trie cache to disk         \u001b[32mpath\u001b[0m=/Users/sitaochen/Desktop/FINTECH565/Goerli-Test/scripts/data/Goerli/geth/triecache \u001b[32mthreads\u001b[0m=8\n",
      "\u001b[32mINFO \u001b[0m[09-12|22:35:20.945] Persisted the clean trie cache           \u001b[32mpath\u001b[0m=/Users/sitaochen/Desktop/FINTECH565/Goerli-Test/scripts/data/Goerli/geth/triecache \u001b[32melapsed\u001b[0m=4.306ms\n",
      "\u001b[32mINFO \u001b[0m[09-12|22:35:20.945] Blockchain stopped \n"
     ]
    }
   ],
   "source": [
    "!geth --goerli --datadir=\"data/Goerli\" --http --http.addr=127.0.0.1 --http.port=8545 --http.api eth,net,engine,admin --authrpc.jwtsecret data/jwt.hex"
   ]
  },
  {
   "cell_type": "code",
   "execution_count": null,
   "id": "fb0efe59",
   "metadata": {},
   "outputs": [],
   "source": [
    "./prysm.sh beacon-chain --execution-endpoint=http://localhost:8551 --prater --jwt-secret=data/jwt.hex --genesis-state=data/genesis.ssz --suggested-fee-recipient=0xd8aE79B8d6Fd0996ed58BA1d3fF6071aA96f1269"
   ]
  }
 ],
 "metadata": {
  "kernelspec": {
   "display_name": "Python 3 (ipykernel)",
   "language": "python",
   "name": "python3"
  },
  "language_info": {
   "codemirror_mode": {
    "name": "ipython",
    "version": 3
   },
   "file_extension": ".py",
   "mimetype": "text/x-python",
   "name": "python",
   "nbconvert_exporter": "python",
   "pygments_lexer": "ipython3",
   "version": "3.8.2"
  }
 },
 "nbformat": 4,
 "nbformat_minor": 5
}
