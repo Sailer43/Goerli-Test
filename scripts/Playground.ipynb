{
 "cells": [
  {
   "cell_type": "markdown",
   "id": "b32625fd",
   "metadata": {},
   "source": [
    "### Command to Sync and Run a Execution Client"
   ]
  },
  {
   "cell_type": "code",
   "execution_count": 7,
   "id": "ec18820c",
   "metadata": {
    "scrolled": true
   },
   "outputs": [],
   "source": [
    "!geth \\\n",
    "    --goerli \\\n",
    "    --datadir=\"../data/Goerli\" \\\n",
    "    --http \\\n",
    "    --http.addr=127.0.0.1 \\\n",
    "    --http.port=8545 \\\n",
    "    --http.api eth,net,engine,admin \\\n",
    "    --authrpc.jwtsecret ../data/jwt.hex"
   ]
  },
  {
   "cell_type": "markdown",
   "id": "d779c015",
   "metadata": {},
   "source": [
    "### Command to Run a Beacon Node"
   ]
  },
  {
   "cell_type": "code",
   "execution_count": 8,
   "id": "fb0efe59",
   "metadata": {
    "scrolled": true
   },
   "outputs": [],
   "source": [
    "!./prysm.sh beacon-chain\\\n",
    "    --execution-endpoint=http://localhost:8551 \\\n",
    "    --prater \\\n",
    "    --jwt-secret=../data/jwt.hex \\\n",
    "    --suggested-fee-recipient=0xd8aE79B8d6Fd0996ed58BA1d3fF6071aA96f1269"
   ]
  },
  {
   "cell_type": "markdown",
   "id": "9839f1aa",
   "metadata": {},
   "source": [
    "### Command to Create a New Mnemonic"
   ]
  },
  {
   "cell_type": "code",
   "execution_count": null,
   "id": "07a1225d",
   "metadata": {},
   "outputs": [],
   "source": [
    "!./deposit new-mnemonic --num_validators=1 --mnemonic_language=english --chain=prater"
   ]
  },
  {
   "cell_type": "markdown",
   "id": "d32c126c",
   "metadata": {},
   "source": [
    "### Command to Create a New Account with the Created Keys"
   ]
  },
  {
   "cell_type": "code",
   "execution_count": null,
   "id": "370ad59c",
   "metadata": {},
   "outputs": [],
   "source": [
    "!./prysm.sh validator accounts import --keys-dir=validator_keys --prater"
   ]
  },
  {
   "cell_type": "markdown",
   "id": "b6375c91",
   "metadata": {},
   "source": [
    "### Command to Run a Validator"
   ]
  },
  {
   "cell_type": "code",
   "execution_count": null,
   "id": "9a0f4bd2",
   "metadata": {},
   "outputs": [],
   "source": [
    "!./prysm.sh validator --wallet-dir=[path/to/wallet] --prate"
   ]
  },
  {
   "cell_type": "markdown",
   "id": "ed1feb30",
   "metadata": {},
   "source": [
    "#### Reference:\n",
    "1. https://docs.prylabs.network/docs/install/install-with-script "
   ]
  }
 ],
 "metadata": {
  "kernelspec": {
   "display_name": "Python 3 (ipykernel)",
   "language": "python",
   "name": "python3"
  },
  "language_info": {
   "codemirror_mode": {
    "name": "ipython",
    "version": 3
   },
   "file_extension": ".py",
   "mimetype": "text/x-python",
   "name": "python",
   "nbconvert_exporter": "python",
   "pygments_lexer": "ipython3",
   "version": "3.8.2"
  }
 },
 "nbformat": 4,
 "nbformat_minor": 5
}
