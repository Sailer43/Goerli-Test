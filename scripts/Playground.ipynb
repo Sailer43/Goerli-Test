{
 "cells": [
  {
   "cell_type": "code",
   "execution_count": 2,
   "id": "ec18820c",
   "metadata": {
    "scrolled": true
   },
   "outputs": [
    {
     "name": "stdout",
     "output_type": "stream",
     "text": [
      "\u001b[32mINFO \u001b[0m[09-13|21:38:24.444] Starting Geth on Görli testnet... \n",
      "\u001b[32mINFO \u001b[0m[09-13|21:38:24.447] Maximum peer count                       \u001b[32mETH\u001b[0m=50 \u001b[32mLES\u001b[0m=0 \u001b[32mtotal\u001b[0m=50\n",
      "\u001b[32mINFO \u001b[0m[09-13|21:38:24.455] Set global gas cap                       \u001b[32mcap\u001b[0m=50,000,000\n",
      "\u001b[32mINFO \u001b[0m[09-13|21:38:24.457] Allocated trie memory caches             \u001b[32mclean\u001b[0m=154.00MiB \u001b[32mdirty\u001b[0m=256.00MiB\n",
      "\u001b[32mINFO \u001b[0m[09-13|21:38:24.459] Allocated cache and file handles         \u001b[32mdatabase\u001b[0m=/Users/sitaochen/Desktop/FINTECH565/Goerli-Test/scripts/data/Goerli/geth/chaindata \u001b[32mcache\u001b[0m=512.00MiB \u001b[32mhandles\u001b[0m=5120\n",
      "^C\n"
     ]
    }
   ],
   "source": [
    "!geth \\\n",
    "    --goerli \\\n",
    "    --datadir=\"data/Goerli\" \\\n",
    "    --http \\\n",
    "    --http.addr=127.0.0.1 \\\n",
    "    --http.port=8545 \\\n",
    "    --http.api eth,net,engine,admin \\\n",
    "    --authrpc.jwtsecret data/jwt.hex"
   ]
  },
  {
   "cell_type": "code",
   "execution_count": 3,
   "id": "fb0efe59",
   "metadata": {
    "scrolled": true
   },
   "outputs": [
    {
     "name": "stdout",
     "output_type": "stream",
     "text": [
      "\u001b[37mLatest Prysm version is v3.1.1.\u001b[0m\n",
      "\u001b[37mBeacon chain is up to date.\u001b[0m\n",
      "\u001b[37mVerifying binary integrity.\u001b[0m\n",
      "beacon-chain-v3.1.1-darwin-amd64: OK\n",
      "gpg: Signature made Fri Sep  9 16:57:48 2022 EDT\n",
      "gpg:                using RSA key 0AE0051D647BA3C1A917AF4072E33E4DF1A5036E\n",
      "gpg: Good signature from \"Preston Van Loon <preston@prysmaticlabs.com>\" [unknown]\n",
      "gpg: WARNING: This key is not certified with a trusted signature!\n",
      "gpg:          There is no indication that the signature belongs to the owner.\n",
      "Primary key fingerprint: 0AE0 051D 647B A3C1 A917  AF40 72E3 3E4D F1A5 036E\n",
      "\u001b[32;1mVerified /Users/sitaochen/Desktop/FINTECH565/Goerli-Test/scripts/./dist/beacon-chain-v3.1.1-darwin-amd64 has been signed by Prysmatic Labs.\u001b[0m\n",
      "\u001b[36mStarting Prysm beacon-chain --execution-endpoint=http://localhost:8551 --prater --jwt-secret=data/jwt.hex --genesis-state=data/genesis.ssz --suggested-fee-recipient=0xd8aE79B8d6Fd0996ed58BA1d3fF6071aA96f1269\u001b[0m\n",
      "\u001b[90m[2022-09-13 21:39:54]\u001b[0m \u001b[32m INFO\u001b[0m Finished reading JWT secret from data/jwt.hex\n",
      "\u001b[90m[2022-09-13 21:39:54]\u001b[0m \u001b[33m WARN\u001b[0m\u001b[36m flags:\u001b[0m Running on the Prater Testnet\n",
      "\u001b[90m[2022-09-13 21:39:54]\u001b[0m \u001b[33m WARN\u001b[0m\u001b[36m flags:\u001b[0m Enabled feature flag \u001b[33menable-only-blinded-beacon-blocks\u001b[0m=Enables storing only blinded beacon blocks in the database without full execution layer transactions\n",
      "\u001b[90m[2022-09-13 21:39:54]\u001b[0m \u001b[32m INFO\u001b[0m\u001b[36m node:\u001b[0m Checking DB \u001b[32mdatabase-path\u001b[0m=/Users/sitaochen/Library/Eth2/beaconchaindata\n",
      "\u001b[90m[2022-09-13 21:39:54]\u001b[0m \u001b[32m INFO\u001b[0m\u001b[36m db:\u001b[0m Opening Bolt DB at /Users/sitaochen/Library/Eth2/beaconchaindata/beaconchain.db\n",
      "\u001b[90m[2022-09-13 21:39:56]\u001b[0m \u001b[32m INFO\u001b[0m\u001b[36m node:\u001b[0m Deposit contract: 0xff50ed3d0ec03ac01d4c79aad74928bff48a7b2b\n",
      "\u001b[90m[2022-09-13 21:39:56]\u001b[0m \u001b[32m INFO\u001b[0m\u001b[36m p2p:\u001b[0m Running node with peer id of 16Uiu2HAm211mEgvcpLM9PrqPiqJZGsjFpiipoEuW43wrYq1ScTvJ \n",
      "\u001b[90m[2022-09-13 21:39:56]\u001b[0m \u001b[32m INFO\u001b[0m\u001b[36m initial-sync:\u001b[0m Waiting for state to be initialized\n",
      "\u001b[90m[2022-09-13 21:39:56]\u001b[0m \u001b[32m INFO\u001b[0m\u001b[36m rpc:\u001b[0m gRPC server listening on port \u001b[32maddress\u001b[0m=127.0.0.1:4000\n",
      "\u001b[90m[2022-09-13 21:39:56]\u001b[0m \u001b[33m WARN\u001b[0m\u001b[36m rpc:\u001b[0m You are using an insecure gRPC server. If you are running your beacon node and validator on the same machines, you can ignore this message. If you want to know how to enable secure connections, see: https://docs.prylabs.network/docs/prysm-usage/secure-grpc\n",
      "\u001b[90m[2022-09-13 21:39:56]\u001b[0m \u001b[32m INFO\u001b[0m\u001b[36m node:\u001b[0m Starting beacon node \u001b[32mversion\u001b[0m=Prysm/v3.1.1/653ea3b030c3bb99aa3f3d95a8de9f4d6e147930. Built at: 2022-09-09 17:26:19+00:00\n",
      "\u001b[90m[2022-09-13 21:39:56]\u001b[0m \u001b[32m INFO\u001b[0m\u001b[36m blockchain:\u001b[0m Blockchain data already exists in DB, initializing...\n",
      "\u001b[90m[2022-09-13 21:39:56]\u001b[0m \u001b[32m INFO\u001b[0m\u001b[36m db:\u001b[0m Cleaning up dirty states \u001b[32mcount\u001b[0m=1\n",
      "\u001b[90m[2022-09-13 21:39:56]\u001b[0m \u001b[32m INFO\u001b[0m\u001b[36m gateway:\u001b[0m Starting API middleware\n",
      "\u001b[90m[2022-09-13 21:39:56]\u001b[0m \u001b[32m INFO\u001b[0m\u001b[36m gateway:\u001b[0m Starting gRPC gateway \u001b[32maddress\u001b[0m=127.0.0.1:3500\n",
      "\u001b[90m[2022-09-13 21:39:56]\u001b[0m \u001b[31mERROR\u001b[0m\u001b[36m powchain:\u001b[0m Could not connect to execution endpoint \u001b[31merror\u001b[0m=Post \"http://localhost:8551\": dial tcp [::1]:8551: connect: connection refused: Post \"http://localhost:8551\": dial tcp [::1]:8551: connect: connection refused\n",
      "\u001b[90m[2022-09-13 21:39:57]\u001b[0m \u001b[32m INFO\u001b[0m\u001b[36m initial-sync:\u001b[0m Starting initial chain sync...\n",
      "\u001b[90m[2022-09-13 21:39:57]\u001b[0m \u001b[32m INFO\u001b[0m\u001b[36m initial-sync:\u001b[0m Waiting for enough suitable peers before syncing \u001b[32mrequired\u001b[0m=3 \u001b[32msuitable\u001b[0m=0\n",
      "\u001b[90m[2022-09-13 21:39:57]\u001b[0m \u001b[32m INFO\u001b[0m\u001b[36m p2p:\u001b[0m Started discovery v5 \u001b[32mENR\u001b[0m=enr:-MK4QCNSIEf4qF_LcCr-IjomeQnSNvKmIY-1pYYggkykW539BoaFT5zUXiuScUJ68er_tBHMzJgXYC9PDzUhSxp-ariGAYM5px72h2F0dG5ldHOIAAAAAAAAAACEZXRoMpDCzjqoAgAQIP__________gmlkgnY0gmlwhMCoAW2Jc2VjcDI1NmsxoQJhsKhUbkANi4z4vwOn7v7n1MJGNI_zKYliXXh6I8AqQ4hzeW5jbmV0cwCDdGNwgjLIg3VkcIIu4A\n",
      "\u001b[90m[2022-09-13 21:39:57]\u001b[0m \u001b[32m INFO\u001b[0m\u001b[36m p2p:\u001b[0m Node started p2p server \u001b[32mmultiAddr\u001b[0m=/ip4/192.168.1.109/tcp/13000/p2p/16Uiu2HAm211mEgvcpLM9PrqPiqJZGsjFpiipoEuW43wrYq1ScTvJ\n",
      "\u001b[90m[2022-09-13 21:40:02]\u001b[0m \u001b[32m INFO\u001b[0m\u001b[36m initial-sync:\u001b[0m Waiting for enough suitable peers before syncing \u001b[32mrequired\u001b[0m=3 \u001b[32msuitable\u001b[0m=2\n",
      "^C\n",
      "\u001b[90m[2022-09-13 21:40:03]\u001b[0m \u001b[32m INFO\u001b[0m\u001b[36m node:\u001b[0m Got interrupt, shutting down...\n",
      "\u001b[90m[2022-09-13 21:40:03]\u001b[0m \u001b[32m INFO\u001b[0m\u001b[36m node:\u001b[0m Stopping beacon node\n",
      "\u001b[90m[2022-09-13 21:40:03]\u001b[0m \u001b[31mERROR\u001b[0m\u001b[36m registry:\u001b[0m Could not stop the following service: *blockchain.Service \u001b[31merror\u001b[0m=could not get ancestor state: slot 3884031 not in db due to checkpoint sync: cannot retrieve data for slot\n",
      "\u001b[90m[2022-09-13 21:40:03]\u001b[0m \u001b[31mERROR\u001b[0m\u001b[36m powchain:\u001b[0m Could not check configuration values between execution and consensus client \u001b[31merror\u001b[0m=got an unexpected error in JSON-RPC response: Post \"http://localhost:8551\": context canceled\n"
     ]
    }
   ],
   "source": [
    "!./prysm.sh beacon-chain\\\n",
    "    --execution-endpoint=http://localhost:8551 \\\n",
    "    --prater \\\n",
    "    --jwt-secret=data/jwt.hex \\\n",
    "    --genesis-state=data/genesis.ssz \\\n",
    "    --suggested-fee-recipient=0xd8aE79B8d6Fd0996ed58BA1d3fF6071aA96f1269"
   ]
  }
 ],
 "metadata": {
  "kernelspec": {
   "display_name": "Python 3 (ipykernel)",
   "language": "python",
   "name": "python3"
  },
  "language_info": {
   "codemirror_mode": {
    "name": "ipython",
    "version": 3
   },
   "file_extension": ".py",
   "mimetype": "text/x-python",
   "name": "python",
   "nbconvert_exporter": "python",
   "pygments_lexer": "ipython3",
   "version": "3.8.2"
  }
 },
 "nbformat": 4,
 "nbformat_minor": 5
}
