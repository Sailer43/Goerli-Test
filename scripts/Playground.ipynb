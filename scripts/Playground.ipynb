{
 "cells": [
  {
   "cell_type": "markdown",
   "id": "b32625fd",
   "metadata": {},
   "source": [
    "### Command to Sync and Run a Execution Client"
   ]
  },
  {
   "cell_type": "code",
   "execution_count": 7,
   "id": "ec18820c",
   "metadata": {
    "scrolled": true
   },
   "outputs": [],
   "source": [
    "!geth \\\n",
    "    --goerli \\\n",
    "    --datadir=\"../data/Goerli\" \\\n",
    "    --http \\\n",
    "    --http.addr=127.0.0.1 \\\n",
    "    --http.port=8545 \\\n",
    "    --http.api eth,net,engine,admin \\\n",
    "    --authrpc.jwtsecret ../root/jwt.hex"
   ]
  },
  {
   "cell_type": "markdown",
   "id": "537e37eb",
   "metadata": {},
   "source": [
    "##### In Docker"
   ]
  },
  {
   "cell_type": "code",
   "execution_count": 2,
   "id": "e85fab43",
   "metadata": {},
   "outputs": [
    {
     "name": "stdout",
     "output_type": "stream",
     "text": [
      "3033118d60832dadad5ff47beded1a412906a958a040ac7bdc7eefaef4e82599\r\n"
     ]
    }
   ],
   "source": [
    "!docker run -d --name ethereum-node \\\n",
    "    -v \"$(pwd)/../data:/data\" \\\n",
    "    -v \"$(pwd)/../root/jwt.hex:/root/jwt.hex\" \\\n",
    "    -p 8545:8545 -p 30303:30303 -p 8551:8551 \\\n",
    "    --network=local-nodes \\\n",
    "    ethereum/client-go:stable \\\n",
    "    --goerli \\\n",
    "    --datadir=\"/data/Goerli\" \\\n",
    "    --http \\\n",
    "    --http.addr=0.0.0.0 \\\n",
    "    --http.port=8545 \\\n",
    "    --http.vhosts \"*\" \\\n",
    "    --http.corsdomain \"*\"\\\n",
    "    --http.api eth,net,engine,admin \\\n",
    "    --authrpc.jwtsecret /root/jwt.hex \\\n",
    "    --authrpc.addr=0.0.0.0 \\\n",
    "    --authrpc.vhosts \"*\""
   ]
  },
  {
   "cell_type": "markdown",
   "id": "d779c015",
   "metadata": {},
   "source": [
    "### Command to Run a Beacon Node"
   ]
  },
  {
   "cell_type": "code",
   "execution_count": 102,
   "id": "fb0efe59",
   "metadata": {
    "scrolled": true
   },
   "outputs": [
    {
     "name": "stdout",
     "output_type": "stream",
     "text": [
      "\u001b[37mLatest Prysm version is v3.1.1.\u001b[0m\n",
      "\u001b[37mBeacon chain is up to date.\u001b[0m\n",
      "\u001b[37mVerifying binary integrity.\u001b[0m\n",
      "beacon-chain-v3.1.1-darwin-amd64: OK\n",
      "gpg: Signature made Fri Sep  9 16:57:48 2022 EDT\n",
      "gpg:                using RSA key 0AE0051D647BA3C1A917AF4072E33E4DF1A5036E\n",
      "gpg: Good signature from \"Preston Van Loon <preston@prysmaticlabs.com>\" [unknown]\n",
      "gpg: WARNING: This key is not certified with a trusted signature!\n",
      "gpg:          There is no indication that the signature belongs to the owner.\n",
      "Primary key fingerprint: 0AE0 051D 647B A3C1 A917  AF40 72E3 3E4D F1A5 036E\n",
      "\u001b[32;1mVerified /Users/sitaochen/Desktop/FINTECH565/Goerli-Test/scripts/./dist/beacon-chain-v3.1.1-darwin-amd64 has been signed by Prysmatic Labs.\u001b[0m\n",
      "\u001b[36mStarting Prysm beacon-chain --execution-endpoint=http://localhost:8551 --prater --jwt-secret=../etc/jwt.hex --genesis-state=data/genesis.ssz --suggested-fee-recipient=0xd8aE79B8d6Fd0996ed58BA1d3fF6071aA96f1269 --checkpoint-sync-url=https://goerli.checkpoint-sync.ethpandaops.io --genesis-beacon-api-url=https://goerli.checkpoint-sync.ethpandaops.io\u001b[0m\n",
      "\u001b[90m[2022-09-19 22:41:15]\u001b[0m \u001b[32m INFO\u001b[0m Finished reading JWT secret from ../etc/jwt.hex\n",
      "\u001b[90m[2022-09-19 22:41:15]\u001b[0m \u001b[33m WARN\u001b[0m\u001b[36m flags:\u001b[0m Running on the Prater Testnet\n",
      "\u001b[90m[2022-09-19 22:41:15]\u001b[0m \u001b[33m WARN\u001b[0m\u001b[36m flags:\u001b[0m Enabled feature flag \u001b[33menable-only-blinded-beacon-blocks\u001b[0m=Enables storing only blinded beacon blocks in the database without full execution layer transactions\n",
      "\u001b[90m[2022-09-19 22:41:15]\u001b[0m \u001b[32m INFO\u001b[0m\u001b[36m node:\u001b[0m Checking DB \u001b[32mdatabase-path\u001b[0m=/Users/sitaochen/Library/Eth2/beaconchaindata\n",
      "\u001b[90m[2022-09-19 22:41:15]\u001b[0m \u001b[32m INFO\u001b[0m\u001b[36m db:\u001b[0m Opening Bolt DB at /Users/sitaochen/Library/Eth2/beaconchaindata/beaconchain.db\n",
      "\u001b[90m[2022-09-19 22:41:17]\u001b[0m \u001b[33m WARN\u001b[0m database contains genesis with htr=0x895390e92edc03df7096e9f51e51896e8dbe6e7e838180dadbfd869fdd77a659, ignoring remote genesis state parameter\n",
      "\u001b[90m[2022-09-19 22:41:17]\u001b[0m \u001b[33m WARN\u001b[0m origin checkpoint root 0x7a3d4a0976e7900cd6a89d90cc2695b0a0b50442c7240b72e491e9581fdd3276 found in db, ignoring checkpoint sync flags\n",
      "\u001b[90m[2022-09-19 22:41:17]\u001b[0m \u001b[32m INFO\u001b[0m\u001b[36m node:\u001b[0m Deposit contract: 0xff50ed3d0ec03ac01d4c79aad74928bff48a7b2b\n",
      "^C\n"
     ]
    }
   ],
   "source": [
    "!./prysm.sh \\\n",
    "    beacon-chain \\\n",
    "    --execution-endpoint=http://localhost:8551 \\\n",
    "    --prater --jwt-secret=../root/jwt.hex \\\n",
    "    --genesis-state=data/genesis.ssz \\\n",
    "    --suggested-fee-recipient=0xd8aE79B8d6Fd0996ed58BA1d3fF6071aA96f1269 \\\n",
    "    --checkpoint-sync-url=https://goerli.checkpoint-sync.ethpandaops.io \\\n",
    "    --genesis-beacon-api-url=https://goerli.checkpoint-sync.ethpandaops.io"
   ]
  },
  {
   "cell_type": "markdown",
   "id": "6d2385c0",
   "metadata": {},
   "source": [
    "##### In Docker"
   ]
  },
  {
   "cell_type": "code",
   "execution_count": 1,
   "id": "af57657a",
   "metadata": {
    "scrolled": false
   },
   "outputs": [
    {
     "name": "stdout",
     "output_type": "stream",
     "text": [
      "9f38752816ff0bbbfccaa3ed09dd4a4cac5e53a21e7ae93d708b6f7ff88f4cc8\r\n"
     ]
    }
   ],
   "source": [
    "!docker run -itd --name beacon-node \\\n",
    "    -v \"$(pwd)/../data:/data\" \\\n",
    "    -v \"$(pwd)/../root/jwt.hex:/root/jwt.hex\" \\\n",
    "    -v \"$(pwd)/../certs:/usr/local/share/ca-certificates/\" \\\n",
    "    -p 4000:4000 -p 13000:13000 -p 12000:12000/udp \\\n",
    "    --network=local-nodes \\\n",
    "    gcr.io/prysmaticlabs/prysm/beacon-chain:stable \\\n",
    "    --datadir=\"/data/Goerli\" \\\n",
    "    --jwt-secret=\"/root/jwt.hex\" \\\n",
    "    --monitoring-host=0.0.0.0 \\\n",
    "    --execution-endpoint=http://ethereum-node:8551 \\\n",
    "    --genesis-state=\"/data/genesis.ssz\" \\\n",
    "    --goerli \\\n",
    "    --suggested-fee-recipient=0xd8aE79B8d6Fd0996ed58BA1d3fF6071aA96f1269 \\\n",
    "    --checkpoint-sync-url=https://goerli.checkpoint-sync.ethpandaops.io \\\n",
    "    --genesis-beacon-api-url=https://goerli.checkpoint-sync.ethpandaops.io"
   ]
  },
  {
   "cell_type": "markdown",
   "id": "f335fb6d",
   "metadata": {},
   "source": [
    "###### Command to create a certificate for checkpoint"
   ]
  },
  {
   "cell_type": "code",
   "execution_count": null,
   "id": "7e885d43",
   "metadata": {},
   "outputs": [],
   "source": [
    "!openssl req -newkey rsa:2048 -nodes -keyout ethpandaops.key -out ethpandaops.csr"
   ]
  },
  {
   "cell_type": "markdown",
   "id": "9839f1aa",
   "metadata": {},
   "source": [
    "### Command to Create a New Mnemonic"
   ]
  },
  {
   "cell_type": "code",
   "execution_count": null,
   "id": "07a1225d",
   "metadata": {},
   "outputs": [],
   "source": [
    "!./deposit new-mnemonic --num_validators=1 --mnemonic_language=english --chain=prater"
   ]
  },
  {
   "cell_type": "markdown",
   "id": "d32c126c",
   "metadata": {},
   "source": [
    "### Command to Create a New Account with the Created Keys"
   ]
  },
  {
   "cell_type": "code",
   "execution_count": null,
   "id": "370ad59c",
   "metadata": {},
   "outputs": [],
   "source": [
    "!./prysm.sh validator accounts import --keys-dir=validator_keys --prater"
   ]
  },
  {
   "cell_type": "markdown",
   "id": "b6375c91",
   "metadata": {},
   "source": [
    "### Command to Run a Validator"
   ]
  },
  {
   "cell_type": "code",
   "execution_count": null,
   "id": "9a0f4bd2",
   "metadata": {},
   "outputs": [],
   "source": [
    "!./prysm.sh validator --wallet-dir=[path/to/wallet] --prate"
   ]
  },
  {
   "cell_type": "markdown",
   "id": "ed1feb30",
   "metadata": {},
   "source": [
    "#### Reference:\n",
    "1. https://docs.prylabs.network/docs/install/install-with-script "
   ]
  }
 ],
 "metadata": {
  "kernelspec": {
   "display_name": "Python 3 (ipykernel)",
   "language": "python",
   "name": "python3"
  },
  "language_info": {
   "codemirror_mode": {
    "name": "ipython",
    "version": 3
   },
   "file_extension": ".py",
   "mimetype": "text/x-python",
   "name": "python",
   "nbconvert_exporter": "python",
   "pygments_lexer": "ipython3",
   "version": "3.8.2"
  }
 },
 "nbformat": 4,
 "nbformat_minor": 5
}
